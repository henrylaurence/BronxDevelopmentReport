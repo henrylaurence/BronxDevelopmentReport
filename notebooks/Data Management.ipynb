{
 "cells": [
  {
   "cell_type": "code",
   "execution_count": 5,
   "metadata": {},
   "outputs": [],
   "source": [
    "# Import\n",
    "\n",
    "import os\n",
    "from pathlib import Path\n",
    "import numpy as np\n",
    "import pandas as pd \n",
    "import geopandas as gpd\n",
    "from shapely import Point\n"
   ]
  },
  {
   "cell_type": "code",
   "execution_count": null,
   "metadata": {},
   "outputs": [],
   "source": [
    "# Path\n",
    "\n",
    "current = Path.cwd() \n",
    "parent = current.resolve().parent / 'data'\n",
    "os.chdir(parent)\n",
    "os.getcwd()"
   ]
  },
  {
   "cell_type": "code",
   "execution_count": 7,
   "metadata": {},
   "outputs": [],
   "source": [
    "# Load\n",
    "\n",
    "Points = pd.read_csv(\"BDR_Points.csv\")\n",
    "BDR_Points = gpd.read_file(\"BDR_Points.geojson\")"
   ]
  },
  {
   "cell_type": "code",
   "execution_count": 8,
   "metadata": {},
   "outputs": [],
   "source": [
    "# Cleaning\n",
    "\n",
    "Points.sort_values(by=['Name'], ascending=True, inplace=True)\n",
    "Points.reset_index(drop=True, inplace=True)\n",
    "\n",
    "Points['Image_Url'] = ''\n",
    "Points['Image_Url'] = Points['Name'].str.replace(' ', '') + '_Img.jpg'\n",
    "Points['Page_No'] = Points.index + 4\n",
    "Points['geometry'] = Points.apply(lambda x: Point((float(x.Latitude), float(x.Longitude))), axis=1)\n",
    "\n",
    "Points = gpd.GeoDataFrame(Points, geometry='geometry', crs = 4326)\n",
    "\n",
    "Points.to_file(\"BDR_Points.geojson\", driver='GeoJSON')"
   ]
  }
 ],
 "metadata": {
  "kernelspec": {
   "display_name": "flask",
   "language": "python",
   "name": "python3"
  },
  "language_info": {
   "codemirror_mode": {
    "name": "ipython",
    "version": 3
   },
   "file_extension": ".py",
   "mimetype": "text/x-python",
   "name": "python",
   "nbconvert_exporter": "python",
   "pygments_lexer": "ipython3",
   "version": "3.11.8"
  }
 },
 "nbformat": 4,
 "nbformat_minor": 2
}
